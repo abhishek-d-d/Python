{
  "nbformat": 4,
  "nbformat_minor": 0,
  "metadata": {
    "colab": {
      "name": "Untitled1.ipynb",
      "provenance": [],
      "collapsed_sections": [],
      "toc_visible": true,
      "authorship_tag": "ABX9TyMAjpPNFSEyszz+BLBNha+4",
      "include_colab_link": true
    },
    "kernelspec": {
      "name": "python3",
      "display_name": "Python 3"
    },
    "language_info": {
      "name": "python"
    }
  },
  "cells": [
    {
      "cell_type": "markdown",
      "metadata": {
        "id": "view-in-github",
        "colab_type": "text"
      },
      "source": [
        "<a href=\"https://colab.research.google.com/github/abhishek-d-d/Python/blob/main/python_day_3.ipynb\" target=\"_parent\"><img src=\"https://colab.research.google.com/assets/colab-badge.svg\" alt=\"Open In Colab\"/></a>"
      ]
    },
    {
      "cell_type": "code",
      "execution_count": 1,
      "metadata": {
        "id": "W0HR27RIReTJ"
      },
      "outputs": [],
      "source": [
        "a = [1, 4, 63, 1.7, '98', 3+5j, 'fake']"
      ]
    },
    {
      "cell_type": "code",
      "source": [
        "for i in a:\n",
        "  print(i)"
      ],
      "metadata": {
        "colab": {
          "base_uri": "https://localhost:8080/"
        },
        "id": "2uWdGtedSvBf",
        "outputId": "e225b1b8-567e-427a-a2ec-44ec7bab11c2"
      },
      "execution_count": 3,
      "outputs": [
        {
          "output_type": "stream",
          "name": "stdout",
          "text": [
            "1\n",
            "4\n",
            "63\n",
            "1.7\n",
            "98\n",
            "(3+5j)\n",
            "fake\n"
          ]
        }
      ]
    },
    {
      "cell_type": "code",
      "source": [
        "a = input(\"enter a : \")\n",
        "b = int(input(\"b : \"))\n",
        "print(a,\" \",type(a))\n",
        "print(b,\" \",type(b))"
      ],
      "metadata": {
        "colab": {
          "base_uri": "https://localhost:8080/"
        },
        "id": "Rymw9bHSh77w",
        "outputId": "7c89245e-0c1e-490d-e883-9b8b92c0ef20"
      },
      "execution_count": 9,
      "outputs": [
        {
          "output_type": "stream",
          "name": "stdout",
          "text": [
            "enter a : 10\n",
            "b :10\n",
            "10   <class 'str'>\n",
            "10   <class 'int'>\n"
          ]
        }
      ]
    },
    {
      "cell_type": "code",
      "source": [
        "a = input(\" :\")\n",
        "b = input(\" :\")\n",
        "print(a+b)"
      ],
      "metadata": {
        "colab": {
          "base_uri": "https://localhost:8080/"
        },
        "id": "VSKWl0dgj5yg",
        "outputId": "fef3ea3d-6b17-470a-ab8d-24e37676b208"
      },
      "execution_count": 11,
      "outputs": [
        {
          "output_type": "stream",
          "name": "stdout",
          "text": [
            " :6\n",
            " :9\n",
            "69\n"
          ]
        }
      ]
    },
    {
      "cell_type": "code",
      "source": [
        "a = int(input(\"a - \"))\n",
        "b = int(input(\"b - \"))\n",
        "c = a + b\n",
        "d = a - b\n",
        "e = a / b\n",
        "f = a // b\n",
        "g = a % b\n",
        "print(\"Addition of a and b is \",c,\"\\nSubstraction of a and b is \",d)\n",
        "\n",
        "print(\"division of a and b is \",e,\"\\nquotient of a by b is \",f,\"\\na % d = \",g)"
      ],
      "metadata": {
        "colab": {
          "base_uri": "https://localhost:8080/"
        },
        "id": "8QqcXL7Rkjeb",
        "outputId": "d41ce412-2e52-47b8-f47b-266463983442"
      },
      "execution_count": 18,
      "outputs": [
        {
          "output_type": "stream",
          "name": "stdout",
          "text": [
            "a - 12\n",
            "b - 23\n",
            "Addition of a and b is  35 \n",
            "Substraction of a and b is  -11\n",
            "division of a and b is  0.5217391304347826 \n",
            "quotient of a by b is  0 \n",
            "a % d =  12\n"
          ]
        }
      ]
    },
    {
      "cell_type": "code",
      "source": [
        "\n"
      ],
      "metadata": {
        "id": "YKdNZZnypeMz"
      },
      "execution_count": null,
      "outputs": []
    },
    {
      "cell_type": "code",
      "source": [
        "a = 2611\n",
        "rem = []\n",
        "while a > 0:\n",
        "  rem.append(a % 10)\n",
        "  a = a // 10\n",
        "\n",
        "a = (rem[0] + rem[1]) * (rem[2] + rem[3])\n",
        "print(a)"
      ],
      "metadata": {
        "colab": {
          "base_uri": "https://localhost:8080/"
        },
        "id": "ViwmIZmFrw4K",
        "outputId": "9b66db90-111d-46e2-b65c-980aac6b3ef2"
      },
      "execution_count": 19,
      "outputs": [
        {
          "output_type": "stream",
          "name": "stdout",
          "text": [
            "16\n"
          ]
        }
      ]
    },
    {
      "cell_type": "code",
      "source": [
        "a = 2611\n",
        "a1 = 0\n",
        "a2 = 0\n",
        "a3 = 0\n",
        "\n",
        "a1 = a % 10\n",
        "a = a // 10\n",
        "\n",
        "a2 = a % 10\n",
        "a = a // 10\n",
        "\n",
        "a1 = a1 + a2\n",
        "\n",
        "a2 = a % 10\n",
        "a = a // 10\n",
        "\n",
        "a3 = a % 10\n",
        "a = a // 10\n",
        "\n",
        "a2 = a2 + a3\n",
        "\n",
        "a = a1 * a2\n",
        "\n",
        "print(a)"
      ],
      "metadata": {
        "colab": {
          "base_uri": "https://localhost:8080/"
        },
        "id": "WSJzQRGou6d_",
        "outputId": "d771dc3a-a0b6-4aa4-e9e1-98671b1c3320"
      },
      "execution_count": 21,
      "outputs": [
        {
          "output_type": "stream",
          "name": "stdout",
          "text": [
            "16\n"
          ]
        }
      ]
    }
  ]
}